{
 "cells": [
  {
   "cell_type": "code",
   "execution_count": 1,
   "id": "5a81fec8",
   "metadata": {},
   "outputs": [],
   "source": [
    "import pandas as pd\n",
    "from sklearn.model_selection import train_test_split\n",
    "from sklearn.ensemble import RandomForestClassifier\n",
    "from sklearn.metrics import classification_report, confusion_matrix\n",
    "\n",
    "df_diabetes = pd.read_csv(r'C:\\Users\\Bithi\\Downloads\\archive (3)\\diabetes.csv') \n",
    "\n",
    "X = df_diabetes.drop('Outcome', axis=1)\n",
    "y = df_diabetes['Outcome']"
   ]
  },
  {
   "cell_type": "code",
   "execution_count": 2,
   "id": "3398081e",
   "metadata": {},
   "outputs": [
    {
     "name": "stdout",
     "output_type": "stream",
     "text": [
      "Number of records: 768\n",
      "Number of features: 9\n",
      "Feature names:\n",
      "Index(['Pregnancies', 'Glucose', 'BloodPressure', 'SkinThickness', 'Insulin',\n",
      "       'BMI', 'DiabetesPedigreeFunction', 'Age', 'Outcome'],\n",
      "      dtype='object')\n",
      "Number of records in each category of 'Outcome':\n",
      "0    500\n",
      "1    268\n",
      "Name: Outcome, dtype: int64\n",
      "Information about the dataframe:\n",
      "<class 'pandas.core.frame.DataFrame'>\n",
      "RangeIndex: 768 entries, 0 to 767\n",
      "Data columns (total 9 columns):\n",
      " #   Column                    Non-Null Count  Dtype  \n",
      "---  ------                    --------------  -----  \n",
      " 0   Pregnancies               768 non-null    int64  \n",
      " 1   Glucose                   768 non-null    int64  \n",
      " 2   BloodPressure             768 non-null    int64  \n",
      " 3   SkinThickness             768 non-null    int64  \n",
      " 4   Insulin                   768 non-null    int64  \n",
      " 5   BMI                       768 non-null    float64\n",
      " 6   DiabetesPedigreeFunction  768 non-null    float64\n",
      " 7   Age                       768 non-null    int64  \n",
      " 8   Outcome                   768 non-null    int64  \n",
      "dtypes: float64(2), int64(7)\n",
      "memory usage: 54.1 KB\n",
      "None\n",
      "Numerical description of the dataframe:\n",
      "       Pregnancies     Glucose  BloodPressure  SkinThickness     Insulin  \\\n",
      "count   768.000000  768.000000     768.000000     768.000000  768.000000   \n",
      "mean      3.845052  120.894531      69.105469      20.536458   79.799479   \n",
      "std       3.369578   31.972618      19.355807      15.952218  115.244002   \n",
      "min       0.000000    0.000000       0.000000       0.000000    0.000000   \n",
      "25%       1.000000   99.000000      62.000000       0.000000    0.000000   \n",
      "50%       3.000000  117.000000      72.000000      23.000000   30.500000   \n",
      "75%       6.000000  140.250000      80.000000      32.000000  127.250000   \n",
      "max      17.000000  199.000000     122.000000      99.000000  846.000000   \n",
      "\n",
      "              BMI  DiabetesPedigreeFunction         Age     Outcome  \n",
      "count  768.000000                768.000000  768.000000  768.000000  \n",
      "mean    31.992578                  0.471876   33.240885    0.348958  \n",
      "std      7.884160                  0.331329   11.760232    0.476951  \n",
      "min      0.000000                  0.078000   21.000000    0.000000  \n",
      "25%     27.300000                  0.243750   24.000000    0.000000  \n",
      "50%     32.000000                  0.372500   29.000000    0.000000  \n",
      "75%     36.600000                  0.626250   41.000000    1.000000  \n",
      "max     67.100000                  2.420000   81.000000    1.000000  \n"
     ]
    }
   ],
   "source": [
    "num_records, num_features = df_diabetes.shape\n",
    "print(f\"Number of records: {num_records}\")\n",
    "print(f\"Number of features: {num_features}\")\n",
    "\n",
    "# Display the feature names\n",
    "print(\"Feature names:\")\n",
    "print(df_diabetes.columns)\n",
    "\n",
    "# Display the number of records in each category of the target feature 'Outcome'\n",
    "print(\"Number of records in each category of 'Outcome':\")\n",
    "print(df_diabetes['Outcome'].value_counts())\n",
    "\n",
    "# Display information about the dataframe\n",
    "print(\"Information about the dataframe:\")\n",
    "print(df_diabetes.info())\n",
    "\n",
    "# Display the numerical description of the dataframe\n",
    "print(\"Numerical description of the dataframe:\")\n",
    "print(df_diabetes.describe())\n"
   ]
  },
  {
   "cell_type": "code",
   "execution_count": 3,
   "id": "e60a52c1",
   "metadata": {},
   "outputs": [
    {
     "name": "stdout",
     "output_type": "stream",
     "text": [
      "Missing values in each feature:\n",
      "Pregnancies                 0\n",
      "Glucose                     0\n",
      "BloodPressure               0\n",
      "SkinThickness               0\n",
      "Insulin                     0\n",
      "BMI                         0\n",
      "DiabetesPedigreeFunction    0\n",
      "Age                         0\n",
      "Outcome                     0\n",
      "dtype: int64\n"
     ]
    }
   ],
   "source": [
    "missing_values = df_diabetes.isnull().sum()\n",
    "print(\"Missing values in each feature:\")\n",
    "print(missing_values)"
   ]
  },
  {
   "cell_type": "code",
   "execution_count": 4,
   "id": "2dfa186d",
   "metadata": {},
   "outputs": [],
   "source": [
    "X_train, X_test, y_train, y_test = train_test_split(X, y, test_size=0.2, random_state=42)\n",
    "rf = RandomForestClassifier(n_estimators=100, criterion='gini', max_depth=2, random_state=42)\n",
    "rf.fit(X_train, y_train)\n",
    "y_pred = rf.predict(X_test)\n"
   ]
  },
  {
   "cell_type": "code",
   "execution_count": 5,
   "id": "9b4ff322",
   "metadata": {},
   "outputs": [
    {
     "name": "stdout",
     "output_type": "stream",
     "text": [
      "Actual vs. Predicted:\n",
      "     Actual  Predicted\n",
      "668       0          0\n",
      "324       0          0\n",
      "624       0          0\n",
      "690       0          0\n",
      "473       0          0\n",
      "..      ...        ...\n",
      "355       1          1\n",
      "534       0          0\n",
      "344       0          0\n",
      "296       1          0\n",
      "462       0          0\n",
      "\n",
      "[154 rows x 2 columns]\n",
      "Classification Report:\n",
      "              precision    recall  f1-score   support\n",
      "\n",
      "           0       0.79      0.93      0.85        99\n",
      "           1       0.81      0.55      0.65        55\n",
      "\n",
      "    accuracy                           0.79       154\n",
      "   macro avg       0.80      0.74      0.75       154\n",
      "weighted avg       0.80      0.79      0.78       154\n",
      "\n",
      "Confusion Matrix:\n",
      "[[92  7]\n",
      " [25 30]]\n"
     ]
    }
   ],
   "source": [
    "comparison = pd.DataFrame({'Actual': y_test, 'Predicted': y_pred})\n",
    "print(\"Actual vs. Predicted:\")\n",
    "print(comparison)\n",
    "\n",
    "# Evaluation of the model\n",
    "print(\"Classification Report:\")\n",
    "print(classification_report(y_test, y_pred))\n",
    "\n",
    "print(\"Confusion Matrix:\")\n",
    "print(confusion_matrix(y_test, y_pred))"
   ]
  },
  {
   "cell_type": "code",
   "execution_count": 6,
   "id": "b418b58b",
   "metadata": {},
   "outputs": [
    {
     "name": "stdout",
     "output_type": "stream",
     "text": [
      "Prediction for a New Unseen Record:\n",
      "[0]\n"
     ]
    }
   ],
   "source": [
    "new_record = pd.DataFrame({'Pregnancies': [5],\n",
    "                            'Glucose': [120],\n",
    "                            'BloodPressure': [70],\n",
    "                            'SkinThickness': [30],\n",
    "                            'Insulin': [50],\n",
    "                            'BMI': [25],\n",
    "                            'DiabetesPedigreeFunction': [0.45],\n",
    "                            'Age': [35]})\n",
    "new_prediction = rf.predict(new_record)\n",
    "print(\"Prediction for a New Unseen Record:\")\n",
    "print(new_prediction)\n"
   ]
  },
  {
   "cell_type": "code",
   "execution_count": null,
   "id": "a1f5216d",
   "metadata": {},
   "outputs": [],
   "source": []
  }
 ],
 "metadata": {
  "kernelspec": {
   "display_name": "Python 3 (ipykernel)",
   "language": "python",
   "name": "python3"
  },
  "language_info": {
   "codemirror_mode": {
    "name": "ipython",
    "version": 3
   },
   "file_extension": ".py",
   "mimetype": "text/x-python",
   "name": "python",
   "nbconvert_exporter": "python",
   "pygments_lexer": "ipython3",
   "version": "3.11.3"
  }
 },
 "nbformat": 4,
 "nbformat_minor": 5
}
